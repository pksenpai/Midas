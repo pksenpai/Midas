{
  "nbformat": 4,
  "nbformat_minor": 0,
  "metadata": {
    "colab": {
      "name": "Midas_A.1.ipynb",
      "provenance": []
    },
    "kernelspec": {
      "name": "python3",
      "display_name": "Python 3"
    },
    "accelerator": "GPU"
  },
  "cells": [
    {
      "cell_type": "code",
      "metadata": {
        "id": "zZnku4mHZkfc",
        "colab": {
          "base_uri": "https://localhost:8080/"
        },
        "outputId": "41fe7f87-d075-45b4-8395-60d60f0b378a"
      },
      "source": [
        "!unzip /content/train.zip"
      ],
      "execution_count": 1,
      "outputs": [
        {
          "output_type": "stream",
          "text": [
            "Archive:  /content/train.zip\n",
            "   creating: train/\n",
            "   creating: train/Sample002/\n",
            "  inflating: train/Sample002/img002-048.png  \n",
            "  inflating: train/Sample002/img002-050.png  \n",
            "  inflating: train/Sample002/img002-006.png  \n",
            "  inflating: train/Sample002/img002-004.png  \n",
            "  inflating: train/Sample002/img002-053.png  \n",
            "  inflating: train/Sample002/img002-045.png  \n",
            "  inflating: train/Sample002/img002-052.png  \n",
            "  inflating: train/Sample002/img002-047.png  \n",
            "  inflating: train/Sample002/img002-020.png  \n",
            "  inflating: train/Sample002/img002-009.png  \n",
            "  inflating: train/Sample002/img002-011.png  \n",
            "  inflating: train/Sample002/img002-013.png  \n",
            "  inflating: train/Sample002/img002-034.png  \n",
            "  inflating: train/Sample002/img002-038.png  \n",
            "  inflating: train/Sample002/img002-024.png  \n",
            "  inflating: train/Sample002/img002-025.png  \n",
            "  inflating: train/Sample002/img002-018.png  \n",
            "  inflating: train/Sample002/img002-032.png  \n",
            "  inflating: train/Sample002/img002-028.png  \n",
            "  inflating: train/Sample002/img002-001.png  \n",
            "  inflating: train/Sample002/img002-019.png  \n",
            "  inflating: train/Sample002/img002-041.png  \n",
            "  inflating: train/Sample002/img002-042.png  \n",
            "  inflating: train/Sample002/img002-007.png  \n",
            "  inflating: train/Sample002/img002-043.png  \n",
            "  inflating: train/Sample002/img002-031.png  \n",
            "  inflating: train/Sample002/img002-040.png  \n",
            "  inflating: train/Sample002/img002-026.png  \n",
            "  inflating: train/Sample002/img002-003.png  \n",
            "  inflating: train/Sample002/img002-037.png  \n",
            "  inflating: train/Sample002/img002-046.png  \n",
            "  inflating: train/Sample002/img002-010.png  \n",
            "  inflating: train/Sample002/img002-049.png  \n",
            "  inflating: train/Sample002/img002-017.png  \n",
            "  inflating: train/Sample002/img002-035.png  \n",
            "  inflating: train/Sample002/img002-008.png  \n",
            "  inflating: train/Sample002/img002-002.png  \n",
            "  inflating: train/Sample002/img002-021.png  \n",
            "  inflating: train/Sample002/img002-012.png  \n",
            "  inflating: train/Sample002/img002-055.png  \n",
            "   creating: train/Sample004/\n",
            "  inflating: train/Sample004/img004-048.png  \n",
            "  inflating: train/Sample004/img004-012.png  \n",
            "  inflating: train/Sample004/img004-049.png  \n",
            "  inflating: train/Sample004/img004-002.png  \n",
            "  inflating: train/Sample004/img004-029.png  \n",
            "  inflating: train/Sample004/img004-018.png  \n",
            "  inflating: train/Sample004/img004-040.png  \n",
            "  inflating: train/Sample004/img004-039.png  \n",
            "  inflating: train/Sample004/img004-022.png  \n",
            "  inflating: train/Sample004/img004-035.png  \n",
            "  inflating: train/Sample004/img004-014.png  \n",
            "  inflating: train/Sample004/img004-023.png  \n",
            "  inflating: train/Sample004/img004-009.png  \n",
            "  inflating: train/Sample004/img004-020.png  \n",
            "  inflating: train/Sample004/img004-024.png  \n",
            "  inflating: train/Sample004/img004-026.png  \n",
            "  inflating: train/Sample004/img004-011.png  \n",
            "  inflating: train/Sample004/img004-055.png  \n",
            "  inflating: train/Sample004/img004-042.png  \n",
            "  inflating: train/Sample004/img004-044.png  \n",
            "  inflating: train/Sample004/img004-033.png  \n",
            "  inflating: train/Sample004/img004-016.png  \n",
            "  inflating: train/Sample004/img004-001.png  \n",
            "  inflating: train/Sample004/img004-006.png  \n",
            "  inflating: train/Sample004/img004-038.png  \n",
            "  inflating: train/Sample004/img004-007.png  \n",
            "  inflating: train/Sample004/img004-036.png  \n",
            "  inflating: train/Sample004/img004-047.png  \n",
            "  inflating: train/Sample004/img004-027.png  \n",
            "  inflating: train/Sample004/img004-021.png  \n",
            "  inflating: train/Sample004/img004-050.png  \n",
            "  inflating: train/Sample004/img004-003.png  \n",
            "  inflating: train/Sample004/img004-025.png  \n",
            "  inflating: train/Sample004/img004-034.png  \n",
            "  inflating: train/Sample004/img004-041.png  \n",
            "  inflating: train/Sample004/img004-030.png  \n",
            "  inflating: train/Sample004/img004-013.png  \n",
            "  inflating: train/Sample004/img004-028.png  \n",
            "  inflating: train/Sample004/img004-008.png  \n",
            "  inflating: train/Sample004/img004-031.png  \n",
            "   creating: train/Sample003/\n",
            "  inflating: train/Sample003/img003-022.png  \n",
            "  inflating: train/Sample003/img003-003.png  \n",
            "  inflating: train/Sample003/img003-002.png  \n",
            "  inflating: train/Sample003/img003-054.png  \n",
            "  inflating: train/Sample003/img003-016.png  \n",
            "  inflating: train/Sample003/img003-004.png  \n",
            "  inflating: train/Sample003/img003-031.png  \n",
            "  inflating: train/Sample003/img003-027.png  \n",
            "  inflating: train/Sample003/img003-023.png  \n",
            "  inflating: train/Sample003/img003-055.png  \n",
            "  inflating: train/Sample003/img003-033.png  \n",
            "  inflating: train/Sample003/img003-042.png  \n",
            "  inflating: train/Sample003/img003-009.png  \n",
            "  inflating: train/Sample003/img003-025.png  \n",
            "  inflating: train/Sample003/img003-010.png  \n",
            "  inflating: train/Sample003/img003-040.png  \n",
            "  inflating: train/Sample003/img003-039.png  \n",
            "  inflating: train/Sample003/img003-026.png  \n",
            "  inflating: train/Sample003/img003-012.png  \n",
            "  inflating: train/Sample003/img003-050.png  \n",
            "  inflating: train/Sample003/img003-048.png  \n",
            "  inflating: train/Sample003/img003-019.png  \n",
            "  inflating: train/Sample003/img003-005.png  \n",
            "  inflating: train/Sample003/img003-037.png  \n",
            "  inflating: train/Sample003/img003-008.png  \n",
            "  inflating: train/Sample003/img003-041.png  \n",
            "  inflating: train/Sample003/img003-044.png  \n",
            "  inflating: train/Sample003/img003-011.png  \n",
            "  inflating: train/Sample003/img003-047.png  \n",
            "  inflating: train/Sample003/img003-049.png  \n",
            "  inflating: train/Sample003/img003-045.png  \n",
            "  inflating: train/Sample003/img003-028.png  \n",
            "  inflating: train/Sample003/img003-015.png  \n",
            "  inflating: train/Sample003/img003-053.png  \n",
            "  inflating: train/Sample003/img003-020.png  \n",
            "  inflating: train/Sample003/img003-032.png  \n",
            "  inflating: train/Sample003/img003-036.png  \n",
            "  inflating: train/Sample003/img003-006.png  \n",
            "  inflating: train/Sample003/img003-017.png  \n",
            "  inflating: train/Sample003/img003-030.png  \n",
            "   creating: train/Sample010/\n",
            "  inflating: train/Sample010/img010-012.png  \n",
            "  inflating: train/Sample010/img010-033.png  \n",
            "  inflating: train/Sample010/img010-017.png  \n",
            "  inflating: train/Sample010/img010-018.png  \n",
            "  inflating: train/Sample010/img010-022.png  \n",
            "  inflating: train/Sample010/img010-019.png  \n",
            "  inflating: train/Sample010/img010-025.png  \n",
            "  inflating: train/Sample010/img010-028.png  \n",
            "  inflating: train/Sample010/img010-040.png  \n",
            "  inflating: train/Sample010/img010-046.png  \n",
            "  inflating: train/Sample010/img010-036.png  \n",
            "  inflating: train/Sample010/img010-043.png  \n",
            "  inflating: train/Sample010/img010-004.png  \n",
            "  inflating: train/Sample010/img010-055.png  \n",
            "  inflating: train/Sample010/img010-032.png  \n",
            "  inflating: train/Sample010/img010-014.png  \n",
            "  inflating: train/Sample010/img010-034.png  \n",
            "  inflating: train/Sample010/img010-054.png  \n",
            "  inflating: train/Sample010/img010-007.png  \n",
            "  inflating: train/Sample010/img010-005.png  \n",
            "  inflating: train/Sample010/img010-037.png  \n",
            "  inflating: train/Sample010/img010-002.png  \n",
            "  inflating: train/Sample010/img010-023.png  \n",
            "  inflating: train/Sample010/img010-049.png  \n",
            "  inflating: train/Sample010/img010-003.png  \n",
            "  inflating: train/Sample010/img010-020.png  \n",
            "  inflating: train/Sample010/img010-039.png  \n",
            "  inflating: train/Sample010/img010-013.png  \n",
            "  inflating: train/Sample010/img010-041.png  \n",
            "  inflating: train/Sample010/img010-031.png  \n",
            "  inflating: train/Sample010/img010-051.png  \n",
            "  inflating: train/Sample010/img010-010.png  \n",
            "  inflating: train/Sample010/img010-008.png  \n",
            "  inflating: train/Sample010/img010-050.png  \n",
            "  inflating: train/Sample010/img010-052.png  \n",
            "  inflating: train/Sample010/img010-011.png  \n",
            "  inflating: train/Sample010/img010-047.png  \n",
            "  inflating: train/Sample010/img010-024.png  \n",
            "  inflating: train/Sample010/img010-042.png  \n",
            "  inflating: train/Sample010/img010-029.png  \n",
            "   creating: train/Sample001/\n",
            "  inflating: train/Sample001/img001-054.png  \n",
            "  inflating: train/Sample001/img001-045.png  \n",
            "  inflating: train/Sample001/img001-043.png  \n",
            "  inflating: train/Sample001/img001-002.png  \n",
            "  inflating: train/Sample001/img001-034.png  \n",
            "  inflating: train/Sample001/img001-037.png  \n",
            "  inflating: train/Sample001/img001-012.png  \n",
            "  inflating: train/Sample001/img001-019.png  \n",
            "  inflating: train/Sample001/img001-047.png  \n",
            "  inflating: train/Sample001/img001-003.png  \n",
            "  inflating: train/Sample001/img001-027.png  \n",
            "  inflating: train/Sample001/img001-004.png  \n",
            "  inflating: train/Sample001/img001-007.png  \n",
            "  inflating: train/Sample001/img001-008.png  \n",
            "  inflating: train/Sample001/img001-033.png  \n",
            "  inflating: train/Sample001/img001-016.png  \n",
            "  inflating: train/Sample001/img001-053.png  \n",
            "  inflating: train/Sample001/img001-014.png  \n",
            "  inflating: train/Sample001/img001-011.png  \n",
            "  inflating: train/Sample001/img001-013.png  \n",
            "  inflating: train/Sample001/img001-001.png  \n",
            "  inflating: train/Sample001/img001-051.png  \n",
            "  inflating: train/Sample001/img001-010.png  \n",
            "  inflating: train/Sample001/img001-025.png  \n",
            "  inflating: train/Sample001/img001-029.png  \n",
            "  inflating: train/Sample001/img001-052.png  \n",
            "  inflating: train/Sample001/img001-018.png  \n",
            "  inflating: train/Sample001/img001-046.png  \n",
            "  inflating: train/Sample001/img001-050.png  \n",
            "  inflating: train/Sample001/img001-036.png  \n",
            "  inflating: train/Sample001/img001-049.png  \n",
            "  inflating: train/Sample001/img001-017.png  \n",
            "  inflating: train/Sample001/img001-026.png  \n",
            "  inflating: train/Sample001/img001-042.png  \n",
            "  inflating: train/Sample001/img001-009.png  \n",
            "  inflating: train/Sample001/img001-030.png  \n",
            "  inflating: train/Sample001/img001-021.png  \n",
            "  inflating: train/Sample001/img001-055.png  \n",
            "  inflating: train/Sample001/img001-044.png  \n",
            "  inflating: train/Sample001/img001-024.png  \n",
            "   creating: train/Sample008/\n",
            "  inflating: train/Sample008/img008-042.png  \n",
            "  inflating: train/Sample008/img008-005.png  \n",
            "  inflating: train/Sample008/img008-040.png  \n",
            "  inflating: train/Sample008/img008-041.png  \n",
            "  inflating: train/Sample008/img008-039.png  \n",
            "  inflating: train/Sample008/img008-009.png  \n",
            "  inflating: train/Sample008/img008-016.png  \n",
            "  inflating: train/Sample008/img008-014.png  \n",
            "  inflating: train/Sample008/img008-013.png  \n",
            "  inflating: train/Sample008/img008-053.png  \n",
            "  inflating: train/Sample008/img008-033.png  \n",
            "  inflating: train/Sample008/img008-047.png  \n",
            "  inflating: train/Sample008/img008-046.png  \n",
            "  inflating: train/Sample008/img008-010.png  \n",
            "  inflating: train/Sample008/img008-017.png  \n",
            "  inflating: train/Sample008/img008-044.png  \n",
            "  inflating: train/Sample008/img008-012.png  \n",
            "  inflating: train/Sample008/img008-019.png  \n",
            "  inflating: train/Sample008/img008-003.png  \n",
            "  inflating: train/Sample008/img008-011.png  \n",
            "  inflating: train/Sample008/img008-007.png  \n",
            "  inflating: train/Sample008/img008-023.png  \n",
            "  inflating: train/Sample008/img008-029.png  \n",
            "  inflating: train/Sample008/img008-034.png  \n",
            "  inflating: train/Sample008/img008-027.png  \n",
            "  inflating: train/Sample008/img008-018.png  \n",
            "  inflating: train/Sample008/img008-038.png  \n",
            "  inflating: train/Sample008/img008-052.png  \n",
            "  inflating: train/Sample008/img008-055.png  \n",
            "  inflating: train/Sample008/img008-015.png  \n",
            "  inflating: train/Sample008/img008-024.png  \n",
            "  inflating: train/Sample008/img008-026.png  \n",
            "  inflating: train/Sample008/img008-032.png  \n",
            "  inflating: train/Sample008/img008-028.png  \n",
            "  inflating: train/Sample008/img008-008.png  \n",
            "  inflating: train/Sample008/img008-049.png  \n",
            "  inflating: train/Sample008/img008-021.png  \n",
            "  inflating: train/Sample008/img008-035.png  \n",
            "  inflating: train/Sample008/img008-031.png  \n",
            "  inflating: train/Sample008/img008-002.png  \n",
            "   creating: train/Sample006/\n",
            "  inflating: train/Sample006/img006-032.png  \n",
            "  inflating: train/Sample006/img006-015.png  \n",
            "  inflating: train/Sample006/img006-010.png  \n",
            "  inflating: train/Sample006/img006-005.png  \n",
            "  inflating: train/Sample006/img006-045.png  \n",
            "  inflating: train/Sample006/img006-018.png  \n",
            "  inflating: train/Sample006/img006-042.png  \n",
            "  inflating: train/Sample006/img006-014.png  \n",
            "  inflating: train/Sample006/img006-021.png  \n",
            "  inflating: train/Sample006/img006-036.png  \n",
            "  inflating: train/Sample006/img006-050.png  \n",
            "  inflating: train/Sample006/img006-030.png  \n",
            "  inflating: train/Sample006/img006-049.png  \n",
            "  inflating: train/Sample006/img006-038.png  \n",
            "  inflating: train/Sample006/img006-039.png  \n",
            "  inflating: train/Sample006/img006-006.png  \n",
            "  inflating: train/Sample006/img006-041.png  \n",
            "  inflating: train/Sample006/img006-026.png  \n",
            "  inflating: train/Sample006/img006-055.png  \n",
            "  inflating: train/Sample006/img006-004.png  \n",
            "  inflating: train/Sample006/img006-003.png  \n",
            "  inflating: train/Sample006/img006-052.png  \n",
            "  inflating: train/Sample006/img006-008.png  \n",
            "  inflating: train/Sample006/img006-001.png  \n",
            "  inflating: train/Sample006/img006-029.png  \n",
            "  inflating: train/Sample006/img006-035.png  \n",
            "  inflating: train/Sample006/img006-022.png  \n",
            "  inflating: train/Sample006/img006-007.png  \n",
            "  inflating: train/Sample006/img006-027.png  \n",
            "  inflating: train/Sample006/img006-043.png  \n",
            "  inflating: train/Sample006/img006-012.png  \n",
            "  inflating: train/Sample006/img006-053.png  \n",
            "  inflating: train/Sample006/img006-024.png  \n",
            "  inflating: train/Sample006/img006-009.png  \n",
            "  inflating: train/Sample006/img006-020.png  \n",
            "  inflating: train/Sample006/img006-011.png  \n",
            "  inflating: train/Sample006/img006-017.png  \n",
            "  inflating: train/Sample006/img006-025.png  \n",
            "  inflating: train/Sample006/img006-051.png  \n",
            "  inflating: train/Sample006/img006-023.png  \n",
            "   creating: train/Sample007/\n",
            "  inflating: train/Sample007/img007-026.png  \n",
            "  inflating: train/Sample007/img007-012.png  \n",
            "  inflating: train/Sample007/img007-001.png  \n",
            "  inflating: train/Sample007/img007-017.png  \n",
            "  inflating: train/Sample007/img007-011.png  \n",
            "  inflating: train/Sample007/img007-005.png  \n",
            "  inflating: train/Sample007/img007-041.png  \n",
            "  inflating: train/Sample007/img007-002.png  \n",
            "  inflating: train/Sample007/img007-034.png  \n",
            "  inflating: train/Sample007/img007-024.png  \n",
            "  inflating: train/Sample007/img007-023.png  \n",
            "  inflating: train/Sample007/img007-014.png  \n",
            "  inflating: train/Sample007/img007-047.png  \n",
            "  inflating: train/Sample007/img007-003.png  \n",
            "  inflating: train/Sample007/img007-013.png  \n",
            "  inflating: train/Sample007/img007-018.png  \n",
            "  inflating: train/Sample007/img007-040.png  \n",
            "  inflating: train/Sample007/img007-031.png  \n",
            "  inflating: train/Sample007/img007-045.png  \n",
            "  inflating: train/Sample007/img007-033.png  \n",
            "  inflating: train/Sample007/img007-032.png  \n",
            "  inflating: train/Sample007/img007-029.png  \n",
            "  inflating: train/Sample007/img007-004.png  \n",
            "  inflating: train/Sample007/img007-042.png  \n",
            "  inflating: train/Sample007/img007-039.png  \n",
            "  inflating: train/Sample007/img007-049.png  \n",
            "  inflating: train/Sample007/img007-025.png  \n",
            "  inflating: train/Sample007/img007-038.png  \n",
            "  inflating: train/Sample007/img007-015.png  \n",
            "  inflating: train/Sample007/img007-052.png  \n",
            "  inflating: train/Sample007/img007-008.png  \n",
            "  inflating: train/Sample007/img007-054.png  \n",
            "  inflating: train/Sample007/img007-019.png  \n",
            "  inflating: train/Sample007/img007-044.png  \n",
            "  inflating: train/Sample007/img007-027.png  \n",
            "  inflating: train/Sample007/img007-010.png  \n",
            "  inflating: train/Sample007/img007-036.png  \n",
            "  inflating: train/Sample007/img007-046.png  \n",
            "  inflating: train/Sample007/img007-022.png  \n",
            "  inflating: train/Sample007/img007-050.png  \n",
            "   creating: train/Sample005/\n",
            "  inflating: train/Sample005/img005-045.png  \n",
            "  inflating: train/Sample005/img005-037.png  \n",
            "  inflating: train/Sample005/img005-027.png  \n",
            "  inflating: train/Sample005/img005-038.png  \n",
            "  inflating: train/Sample005/img005-029.png  \n",
            "  inflating: train/Sample005/img005-012.png  \n",
            "  inflating: train/Sample005/img005-004.png  \n",
            "  inflating: train/Sample005/img005-002.png  \n",
            "  inflating: train/Sample005/img005-017.png  \n",
            "  inflating: train/Sample005/img005-013.png  \n",
            "  inflating: train/Sample005/img005-009.png  \n",
            "  inflating: train/Sample005/img005-001.png  \n",
            "  inflating: train/Sample005/img005-016.png  \n",
            "  inflating: train/Sample005/img005-005.png  \n",
            "  inflating: train/Sample005/img005-007.png  \n",
            "  inflating: train/Sample005/img005-048.png  \n",
            "  inflating: train/Sample005/img005-033.png  \n",
            "  inflating: train/Sample005/img005-055.png  \n",
            "  inflating: train/Sample005/img005-034.png  \n",
            "  inflating: train/Sample005/img005-011.png  \n",
            "  inflating: train/Sample005/img005-036.png  \n",
            "  inflating: train/Sample005/img005-050.png  \n",
            "  inflating: train/Sample005/img005-051.png  \n",
            "  inflating: train/Sample005/img005-014.png  \n",
            "  inflating: train/Sample005/img005-024.png  \n",
            "  inflating: train/Sample005/img005-049.png  \n",
            "  inflating: train/Sample005/img005-008.png  \n",
            "  inflating: train/Sample005/img005-021.png  \n",
            "  inflating: train/Sample005/img005-025.png  \n",
            "  inflating: train/Sample005/img005-020.png  \n",
            "  inflating: train/Sample005/img005-031.png  \n",
            "  inflating: train/Sample005/img005-052.png  \n",
            "  inflating: train/Sample005/img005-054.png  \n",
            "  inflating: train/Sample005/img005-044.png  \n",
            "  inflating: train/Sample005/img005-046.png  \n",
            "  inflating: train/Sample005/img005-023.png  \n",
            "  inflating: train/Sample005/img005-047.png  \n",
            "  inflating: train/Sample005/img005-032.png  \n",
            "  inflating: train/Sample005/img005-022.png  \n",
            "  inflating: train/Sample005/img005-042.png  \n",
            "   creating: train/Sample009/\n",
            "  inflating: train/Sample009/img009-023.png  \n",
            "  inflating: train/Sample009/img009-049.png  \n",
            "  inflating: train/Sample009/img009-020.png  \n",
            "  inflating: train/Sample009/img009-012.png  \n",
            "  inflating: train/Sample009/img009-045.png  \n",
            "  inflating: train/Sample009/img009-017.png  \n",
            "  inflating: train/Sample009/img009-037.png  \n",
            "  inflating: train/Sample009/img009-001.png  \n",
            "  inflating: train/Sample009/img009-035.png  \n",
            "  inflating: train/Sample009/img009-030.png  \n",
            "  inflating: train/Sample009/img009-047.png  \n",
            "  inflating: train/Sample009/img009-026.png  \n",
            "  inflating: train/Sample009/img009-008.png  \n",
            "  inflating: train/Sample009/img009-028.png  \n",
            "  inflating: train/Sample009/img009-006.png  \n",
            "  inflating: train/Sample009/img009-038.png  \n",
            "  inflating: train/Sample009/img009-042.png  \n",
            "  inflating: train/Sample009/img009-016.png  \n",
            "  inflating: train/Sample009/img009-022.png  \n",
            "  inflating: train/Sample009/img009-003.png  \n",
            "  inflating: train/Sample009/img009-029.png  \n",
            "  inflating: train/Sample009/img009-015.png  \n",
            "  inflating: train/Sample009/img009-010.png  \n",
            "  inflating: train/Sample009/img009-041.png  \n",
            "  inflating: train/Sample009/img009-046.png  \n",
            "  inflating: train/Sample009/img009-040.png  \n",
            "  inflating: train/Sample009/img009-011.png  \n",
            "  inflating: train/Sample009/img009-024.png  \n",
            "  inflating: train/Sample009/img009-018.png  \n",
            "  inflating: train/Sample009/img009-032.png  \n",
            "  inflating: train/Sample009/img009-005.png  \n",
            "  inflating: train/Sample009/img009-009.png  \n",
            "  inflating: train/Sample009/img009-034.png  \n",
            "  inflating: train/Sample009/img009-039.png  \n",
            "  inflating: train/Sample009/img009-054.png  \n",
            "  inflating: train/Sample009/img009-007.png  \n",
            "  inflating: train/Sample009/img009-051.png  \n",
            "  inflating: train/Sample009/img009-036.png  \n",
            "  inflating: train/Sample009/img009-052.png  \n",
            "  inflating: train/Sample009/img009-013.png  \n"
          ],
          "name": "stdout"
        }
      ]
    },
    {
      "cell_type": "code",
      "metadata": {
        "id": "My3us-YGImqV"
      },
      "source": [
        "import os\n",
        "import torch\n",
        "import torchvision\n",
        "import torch.nn as nn\n",
        "import numpy as np\n",
        "import torch.nn.functional as F\n",
        "from torchvision.datasets import ImageFolder\n",
        "from torch.utils.data import DataLoader\n",
        "import torchvision.transforms as tt\n",
        "from torch.utils.data import random_split\n",
        "from torchvision.utils import make_grid\n",
        "import matplotlib.pyplot as plt\n",
        "%matplotlib inline"
      ],
      "execution_count": 2,
      "outputs": []
    },
    {
      "cell_type": "code",
      "metadata": {
        "id": "_p6ogZ3cIGS4",
        "colab": {
          "base_uri": "https://localhost:8080/"
        },
        "outputId": "665790fd-923e-4840-8bdb-3c651cdefda9"
      },
      "source": [
        "data_dir = '/content/train'\n",
        "classes = os.listdir(data_dir)\n",
        "print(classes)"
      ],
      "execution_count": 3,
      "outputs": [
        {
          "output_type": "stream",
          "text": [
            "['Sample001', 'Sample003', 'Sample005', 'Sample004', 'Sample002', 'Sample010', 'Sample008', 'Sample006', 'Sample009', 'Sample007']\n"
          ],
          "name": "stdout"
        }
      ]
    },
    {
      "cell_type": "code",
      "metadata": {
        "id": "QgXd5F2DJGb3"
      },
      "source": [
        "tfms = tt.Compose([tt.Resize((32,32)),\n",
        "                         tt.ToTensor(),tt.Grayscale(num_output_channels=1)])"
      ],
      "execution_count": 4,
      "outputs": []
    },
    {
      "cell_type": "code",
      "metadata": {
        "id": "Ou6ev44VLPRX"
      },
      "source": [
        "dataset = ImageFolder(data_dir,tfms)\n"
      ],
      "execution_count": 5,
      "outputs": []
    },
    {
      "cell_type": "code",
      "metadata": {
        "id": "G_SqsIPndLqQ",
        "colab": {
          "base_uri": "https://localhost:8080/"
        },
        "outputId": "9fe62d42-502a-4347-b17c-f5ef5d177410"
      },
      "source": [
        "val_size = 50\n",
        "train_size = len(dataset) - val_size\n",
        "\n",
        "train_ds, val_ds = random_split(dataset, [train_size, val_size])\n",
        "len(train_ds), len(val_ds)"
      ],
      "execution_count": 6,
      "outputs": [
        {
          "output_type": "execute_result",
          "data": {
            "text/plain": [
              "(350, 50)"
            ]
          },
          "metadata": {
            "tags": []
          },
          "execution_count": 6
        }
      ]
    },
    {
      "cell_type": "code",
      "metadata": {
        "colab": {
          "base_uri": "https://localhost:8080/"
        },
        "id": "7yLS-HiqRoaA",
        "outputId": "f114d170-96d8-46c3-9dc0-6c96dbde7e45"
      },
      "source": [
        "img_tensor, label = dataset[0]\n",
        "print(img_tensor.shape, label)"
      ],
      "execution_count": 7,
      "outputs": [
        {
          "output_type": "stream",
          "text": [
            "torch.Size([1, 32, 32]) 0\n"
          ],
          "name": "stdout"
        }
      ]
    },
    {
      "cell_type": "code",
      "metadata": {
        "id": "bKg_mDghLbkj",
        "colab": {
          "base_uri": "https://localhost:8080/"
        },
        "outputId": "8b43adde-ebf7-41f9-93f5-4534e3bb9b12"
      },
      "source": [
        "batch_size = 16\n",
        "\n",
        "train_dl = DataLoader(train_ds, batch_size, shuffle=True, num_workers=3, pin_memory=True)\n",
        "valid_dl = DataLoader(val_ds, batch_size*2, num_workers=3, pin_memory=True)\n"
      ],
      "execution_count": 8,
      "outputs": [
        {
          "output_type": "stream",
          "text": [
            "/usr/local/lib/python3.7/dist-packages/torch/utils/data/dataloader.py:477: UserWarning: This DataLoader will create 3 worker processes in total. Our suggested max number of worker in current system is 2, which is smaller than what this DataLoader is going to create. Please be aware that excessive worker creation might get DataLoader running slow or even freeze, lower the worker number to avoid potential slowness/freeze if necessary.\n",
            "  cpuset_checked))\n"
          ],
          "name": "stderr"
        }
      ]
    },
    {
      "cell_type": "code",
      "metadata": {
        "id": "uKHibTTULxW9"
      },
      "source": [
        "\n",
        "def show_batch(dl):\n",
        "    for images, labels in dl:\n",
        "        fig, ax = plt.subplots(figsize=(12, 12))\n",
        "        ax.set_xticks([]); ax.set_yticks([])\n",
        "        ax.imshow(make_grid(images[:64], nrow=8).permute(1, 2, 0))\n",
        "        break"
      ],
      "execution_count": 9,
      "outputs": []
    },
    {
      "cell_type": "code",
      "metadata": {
        "id": "2cNnhCAnL625",
        "colab": {
          "base_uri": "https://localhost:8080/",
          "height": 260
        },
        "outputId": "b76c533d-8702-4157-af63-92bd3251d679"
      },
      "source": [
        "show_batch(train_dl)\n"
      ],
      "execution_count": 10,
      "outputs": [
        {
          "output_type": "stream",
          "text": [
            "/usr/local/lib/python3.7/dist-packages/torch/utils/data/dataloader.py:477: UserWarning: This DataLoader will create 3 worker processes in total. Our suggested max number of worker in current system is 2, which is smaller than what this DataLoader is going to create. Please be aware that excessive worker creation might get DataLoader running slow or even freeze, lower the worker number to avoid potential slowness/freeze if necessary.\n",
            "  cpuset_checked))\n"
          ],
          "name": "stderr"
        },
        {
          "output_type": "display_data",
          "data": {
            "image/png": "[encoded data removed]",
            "text/plain": [
              "<Figure size 864x864 with 1 Axes>"
            ]
          },
          "metadata": {
            "tags": []
          }
        }
      ]
    },
    {
      "cell_type": "code",
      "metadata": {
        "id": "3TxTOHWZeEf2"
      },
      "source": [
        "def get_default_device():\n",
        "    \"\"\"Pick GPU if available, else CPU\"\"\"\n",
        "    if torch.cuda.is_available():\n",
        "        return torch.device('cuda')\n",
        "    else:\n",
        "        return torch.device('cpu')\n",
        "    \n",
        "def to_device(data, device):\n",
        "    \"\"\"Move tensor(s) to chosen device\"\"\"\n",
        "    if isinstance(data, (list,tuple)):\n",
        "        return [to_device(x, device) for x in data]\n",
        "    return data.to(device, non_blocking=True)\n",
        "\n",
        "class DeviceDataLoader():\n",
        "    \"\"\"Wrap a dataloader to move data to a device\"\"\"\n",
        "    def __init__(self, dl, device):\n",
        "        self.dl = dl\n",
        "        self.device = device\n",
        "        \n",
        "    def __iter__(self):\n",
        "        \"\"\"Yield a batch of data after moving it to device\"\"\"\n",
        "        for b in self.dl: \n",
        "            yield to_device(b, self.device)\n",
        "\n",
        "    def __len__(self):\n",
        "        \"\"\"Number of batches\"\"\"\n",
        "        return len(self.dl)"
      ],
      "execution_count": 11,
      "outputs": []
    },
    {
      "cell_type": "code",
      "metadata": {
        "id": "iilm4G6ceFrU",
        "colab": {
          "base_uri": "https://localhost:8080/"
        },
        "outputId": "38a30de1-d26a-439a-a18e-8997213d7497"
      },
      "source": [
        "device = get_default_device()\n",
        "device\n"
      ],
      "execution_count": 12,
      "outputs": [
        {
          "output_type": "execute_result",
          "data": {
            "text/plain": [
              "device(type='cuda')"
            ]
          },
          "metadata": {
            "tags": []
          },
          "execution_count": 12
        }
      ]
    },
    {
      "cell_type": "code",
      "metadata": {
        "id": "b_waV4AheFoI"
      },
      "source": [
        "train_dl = DeviceDataLoader(train_dl, device)\n",
        "valid_dl = DeviceDataLoader(valid_dl, device)"
      ],
      "execution_count": 13,
      "outputs": []
    },
    {
      "cell_type": "code",
      "metadata": {
        "id": "d-QBL2v8eFh0"
      },
      "source": [
        "def accuracy(outputs, labels):\n",
        "    _, preds = torch.max(outputs, dim=1)\n",
        "    return torch.tensor(torch.sum(preds == labels).item() / len(preds))\n",
        "\n",
        "class ImageClassificationBase(nn.Module):\n",
        "    def training_step(self, batch):\n",
        "        images, labels = batch \n",
        "        out = self(images)                  # Generate predictions\n",
        "        loss = F.cross_entropy(out, labels) # Calculate loss\n",
        "        return loss\n",
        "    \n",
        "    def validation_step(self, batch):\n",
        "        images, labels = batch \n",
        "        out = self(images)                    # Generate predictions\n",
        "        loss = F.cross_entropy(out, labels)   # Calculate loss\n",
        "        acc = accuracy(out, labels)           # Calculate accuracy\n",
        "        return {'val_loss': loss.detach(), 'val_acc': acc}\n",
        "        \n",
        "    def validation_epoch_end(self, outputs):\n",
        "        batch_losses = [x['val_loss'] for x in outputs]\n",
        "        epoch_loss = torch.stack(batch_losses).mean()   # Combine losses\n",
        "        batch_accs = [x['val_acc'] for x in outputs]\n",
        "        epoch_acc = torch.stack(batch_accs).mean()      # Combine accuracies\n",
        "        return {'val_loss': epoch_loss.item(), 'val_acc': epoch_acc.item()}\n",
        "    \n",
        "    def epoch_end(self, epoch, result):\n",
        "        print(\"Epoch [{}], last_lr: {:.5f}, train_loss: {:.4f}, val_loss: {:.4f}, val_acc: {:.4f}\".format(\n",
        "            epoch, result['lrs'][-1], result['train_loss'], result['val_loss'], result['val_acc']))"
      ],
      "execution_count": 14,
      "outputs": []
    },
    {
      "cell_type": "code",
      "metadata": {
        "id": "n3tyirOxeFf2"
      },
      "source": [
        "def conv_block(in_channels, out_channels, pool=False):\n",
        "    layers = [nn.Conv2d(in_channels, out_channels, kernel_size=3, padding=1), \n",
        "              nn.BatchNorm2d(out_channels), \n",
        "              nn.ReLU(inplace=True)]\n",
        "    if pool: layers.append(nn.MaxPool2d(2))\n",
        "    return nn.Sequential(*layers)\n",
        "\n",
        "class ResNet9(ImageClassificationBase):\n",
        "    def __init__(self, in_channels, num_classes):\n",
        "        super().__init__()\n",
        "        \n",
        "        self.conv1 = conv_block(in_channels, 64)\n",
        "        self.conv2 = conv_block(64, 128, pool=True)\n",
        "        self.res1 = nn.Sequential(conv_block(128, 128), conv_block(128, 128))\n",
        "        \n",
        "        self.conv3 = conv_block(128, 256, pool=True)\n",
        "        self.conv4 = conv_block(256, 512, pool=True)\n",
        "        self.res2 = nn.Sequential(conv_block(512, 512), conv_block(512, 512))\n",
        "        \n",
        "        self.classifier = nn.Sequential(nn.MaxPool2d(4), \n",
        "                                        nn.Flatten(), \n",
        "                                        nn.Linear(512, num_classes))\n",
        "        \n",
        "    def forward(self, xb):\n",
        "        out = self.conv1(xb)\n",
        "        out = self.conv2(out)\n",
        "        out = self.res1(out) + out\n",
        "        out = self.conv3(out)\n",
        "        out = self.conv4(out)\n",
        "        out = self.res2(out) + out\n",
        "        out = self.classifier(out)\n",
        "        return out"
      ],
      "execution_count": 15,
      "outputs": []
    },
    {
      "cell_type": "code",
      "metadata": {
        "id": "zagJYHmJeFcn",
        "colab": {
          "base_uri": "https://localhost:8080/"
        },
        "outputId": "3d445bb4-a16e-4eb7-a948-ca0b20667d33"
      },
      "source": [
        "model = to_device(ResNet9(1, 10), device)\n",
        "model"
      ],
      "execution_count": 19,
      "outputs": [
        {
          "output_type": "execute_result",
          "data": {
            "text/plain": [
              "ResNet9(\n",
              "  (conv1): Sequential(\n",
              "    (0): Conv2d(1, 64, kernel_size=(3, 3), stride=(1, 1), padding=(1, 1))\n",
              "    (1): BatchNorm2d(64, eps=1e-05, momentum=0.1, affine=True, track_running_stats=True)\n",
              "    (2): ReLU(inplace=True)\n",
              "  )\n",
              "  (conv2): Sequential(\n",
              "    (0): Conv2d(64, 128, kernel_size=(3, 3), stride=(1, 1), padding=(1, 1))\n",
              "    (1): BatchNorm2d(128, eps=1e-05, momentum=0.1, affine=True, track_running_stats=True)\n",
              "    (2): ReLU(inplace=True)\n",
              "    (3): MaxPool2d(kernel_size=2, stride=2, padding=0, dilation=1, ceil_mode=False)\n",
              "  )\n",
              "  (res1): Sequential(\n",
              "    (0): Sequential(\n",
              "      (0): Conv2d(128, 128, kernel_size=(3, 3), stride=(1, 1), padding=(1, 1))\n",
              "      (1): BatchNorm2d(128, eps=1e-05, momentum=0.1, affine=True, track_running_stats=True)\n",
              "      (2): ReLU(inplace=True)\n",
              "    )\n",
              "    (1): Sequential(\n",
              "      (0): Conv2d(128, 128, kernel_size=(3, 3), stride=(1, 1), padding=(1, 1))\n",
              "      (1): BatchNorm2d(128, eps=1e-05, momentum=0.1, affine=True, track_running_stats=True)\n",
              "      (2): ReLU(inplace=True)\n",
              "    )\n",
              "  )\n",
              "  (conv3): Sequential(\n",
              "    (0): Conv2d(128, 256, kernel_size=(3, 3), stride=(1, 1), padding=(1, 1))\n",
              "    (1): BatchNorm2d(256, eps=1e-05, momentum=0.1, affine=True, track_running_stats=True)\n",
              "    (2): ReLU(inplace=True)\n",
              "    (3): MaxPool2d(kernel_size=2, stride=2, padding=0, dilation=1, ceil_mode=False)\n",
              "  )\n",
              "  (conv4): Sequential(\n",
              "    (0): Conv2d(256, 512, kernel_size=(3, 3), stride=(1, 1), padding=(1, 1))\n",
              "    (1): BatchNorm2d(512, eps=1e-05, momentum=0.1, affine=True, track_running_stats=True)\n",
              "    (2): ReLU(inplace=True)\n",
              "    (3): MaxPool2d(kernel_size=2, stride=2, padding=0, dilation=1, ceil_mode=False)\n",
              "  )\n",
              "  (res2): Sequential(\n",
              "    (0): Sequential(\n",
              "      (0): Conv2d(512, 512, kernel_size=(3, 3), stride=(1, 1), padding=(1, 1))\n",
              "      (1): BatchNorm2d(512, eps=1e-05, momentum=0.1, affine=True, track_running_stats=True)\n",
              "      (2): ReLU(inplace=True)\n",
              "    )\n",
              "    (1): Sequential(\n",
              "      (0): Conv2d(512, 512, kernel_size=(3, 3), stride=(1, 1), padding=(1, 1))\n",
              "      (1): BatchNorm2d(512, eps=1e-05, momentum=0.1, affine=True, track_running_stats=True)\n",
              "      (2): ReLU(inplace=True)\n",
              "    )\n",
              "  )\n",
              "  (classifier): Sequential(\n",
              "    (0): MaxPool2d(kernel_size=4, stride=4, padding=0, dilation=1, ceil_mode=False)\n",
              "    (1): Flatten(start_dim=1, end_dim=-1)\n",
              "    (2): Linear(in_features=512, out_features=10, bias=True)\n",
              "  )\n",
              ")"
            ]
          },
          "metadata": {
            "tags": []
          },
          "execution_count": 19
        }
      ]
    },
    {
      "cell_type": "code",
      "metadata": {
        "id": "fbfcBvfTeFWr"
      },
      "source": [
        "@torch.no_grad()\n",
        "def evaluate(model, val_loader):\n",
        "    model.eval()\n",
        "    outputs = [model.validation_step(batch) for batch in val_loader]\n",
        "    return model.validation_epoch_end(outputs)\n",
        "\n",
        "def get_lr(optimizer):\n",
        "    for param_group in optimizer.param_groups:\n",
        "        return param_group['lr']\n",
        "\n",
        "def fit_one_cycle(epochs, max_lr, model, train_loader, val_loader, \n",
        "                  weight_decay=0, grad_clip=None, opt_func=torch.optim.SGD):\n",
        "    torch.cuda.empty_cache()\n",
        "    history = []\n",
        "    \n",
        "    # Set up cutom optimizer with weight decay\n",
        "    optimizer = opt_func(model.parameters(), max_lr, weight_decay=weight_decay)\n",
        "    # Set up one-cycle learning rate scheduler\n",
        "    sched = torch.optim.lr_scheduler.OneCycleLR(optimizer, max_lr, epochs=epochs, \n",
        "                                                steps_per_epoch=len(train_loader))\n",
        "    \n",
        "    for epoch in range(epochs):\n",
        "        # Training Phase \n",
        "        model.train()\n",
        "        train_losses = []\n",
        "        lrs = []\n",
        "        for batch in train_loader:\n",
        "            loss = model.training_step(batch)\n",
        "            train_losses.append(loss)\n",
        "            loss.backward()\n",
        "            \n",
        "            # Gradient clipping\n",
        "            if grad_clip: \n",
        "                nn.utils.clip_grad_value_(model.parameters(), grad_clip)\n",
        "            \n",
        "            optimizer.step()\n",
        "            optimizer.zero_grad()\n",
        "            \n",
        "            # Record & update learning rate\n",
        "            lrs.append(get_lr(optimizer))\n",
        "            sched.step()\n",
        "        \n",
        "        # Validation phase\n",
        "        result = evaluate(model, val_loader)\n",
        "        result['train_loss'] = torch.stack(train_losses).mean().item()\n",
        "        result['lrs'] = lrs\n",
        "        model.epoch_end(epoch, result)\n",
        "        history.append(result)\n",
        "    return history"
      ],
      "execution_count": 20,
      "outputs": []
    },
    {
      "cell_type": "code",
      "metadata": {
        "id": "1QsWmr9ieFUs",
        "colab": {
          "base_uri": "https://localhost:8080/"
        },
        "outputId": "5a1a7f37-1b8d-43a6-857f-53e63264b9a8"
      },
      "source": [
        "history = [evaluate(model, valid_dl)]\n",
        "history"
      ],
      "execution_count": 21,
      "outputs": [
        {
          "output_type": "stream",
          "text": [
            "/usr/local/lib/python3.7/dist-packages/torch/utils/data/dataloader.py:477: UserWarning: This DataLoader will create 3 worker processes in total. Our suggested max number of worker in current system is 2, which is smaller than what this DataLoader is going to create. Please be aware that excessive worker creation might get DataLoader running slow or even freeze, lower the worker number to avoid potential slowness/freeze if necessary.\n",
            "  cpuset_checked))\n"
          ],
          "name": "stderr"
        },
        {
          "output_type": "execute_result",
          "data": {
            "text/plain": [
              "[{'val_acc': 0.2048611044883728, 'val_loss': 2.292513370513916}]"
            ]
          },
          "metadata": {
            "tags": []
          },
          "execution_count": 21
        }
      ]
    },
    {
      "cell_type": "code",
      "metadata": {
        "id": "9bVkojF3eFST"
      },
      "source": [
        "epochs = 10\n",
        "max_lr = 0.01\n",
        "grad_clip = 0.1\n",
        "weight_decay = 1e-4\n",
        "opt_func = torch.optim.Adam"
      ],
      "execution_count": 22,
      "outputs": []
    },
    {
      "cell_type": "code",
      "metadata": {
        "id": "qpbCfSTweFKi",
        "colab": {
          "base_uri": "https://localhost:8080/"
        },
        "outputId": "2121e511-5990-4c6d-872f-da2dc0711285"
      },
      "source": [
        "%%time\n",
        "history += fit_one_cycle(epochs, max_lr, model, train_dl, valid_dl, \n",
        "                             grad_clip=grad_clip, \n",
        "                             weight_decay=weight_decay, \n",
        "                             opt_func=opt_func)\n"
      ],
      "execution_count": 23,
      "outputs": [
        {
          "output_type": "stream",
          "text": [
            "/usr/local/lib/python3.7/dist-packages/torch/utils/data/dataloader.py:477: UserWarning: This DataLoader will create 3 worker processes in total. Our suggested max number of worker in current system is 2, which is smaller than what this DataLoader is going to create. Please be aware that excessive worker creation might get DataLoader running slow or even freeze, lower the worker number to avoid potential slowness/freeze if necessary.\n",
            "  cpuset_checked))\n"
          ],
          "name": "stderr"
        },
        {
          "output_type": "stream",
          "text": [
            "Epoch [0], last_lr: 0.00267, train_loss: 2.0726, val_loss: 2.3704, val_acc: 0.1736\n",
            "Epoch [1], last_lr: 0.00753, train_loss: 1.4472, val_loss: 9.2587, val_acc: 0.4375\n",
            "Epoch [2], last_lr: 0.01000, train_loss: 1.6313, val_loss: 5.2391, val_acc: 0.5399\n",
            "Epoch [3], last_lr: 0.00950, train_loss: 1.8842, val_loss: 2.9915, val_acc: 0.4167\n",
            "Epoch [4], last_lr: 0.00812, train_loss: 0.6292, val_loss: 5.6045, val_acc: 0.3698\n",
            "Epoch [5], last_lr: 0.00611, train_loss: 0.4603, val_loss: 0.8517, val_acc: 0.7795\n",
            "Epoch [6], last_lr: 0.00389, train_loss: 0.1384, val_loss: 0.1826, val_acc: 0.9410\n",
            "Epoch [7], last_lr: 0.00188, train_loss: 0.1156, val_loss: 0.1653, val_acc: 0.9375\n",
            "Epoch [8], last_lr: 0.00050, train_loss: 0.0328, val_loss: 0.0358, val_acc: 1.0000\n",
            "Epoch [9], last_lr: 0.00000, train_loss: 0.0153, val_loss: 0.0509, val_acc: 0.9844\n",
            "CPU times: user 2.89 s, sys: 1.61 s, total: 4.5 s\n",
            "Wall time: 48.9 s\n"
          ],
          "name": "stdout"
        }
      ]
    },
    {
      "cell_type": "code",
      "metadata": {
        "id": "QUMGSmwweE9T",
        "colab": {
          "base_uri": "https://localhost:8080/",
          "height": 295
        },
        "outputId": "bed1f5b6-b169-4d9d-9e53-4be59e44b1f9"
      },
      "source": [
        "def plot_accuracies(history):\n",
        "    accuracies = [x['val_acc'] for x in history]\n",
        "    plt.plot(accuracies, '-x')\n",
        "    plt.xlabel('epoch')\n",
        "    plt.ylabel('accuracy')\n",
        "    plt.title('Accuracy vs. No. of epochs');\n",
        "\n",
        "plot_accuracies(history)"
      ],
      "execution_count": 24,
      "outputs": [
        {
          "output_type": "display_data",
          "data": {
            "image/png": "[encoded data removed]",
            "text/plain": [
              "<Figure size 432x288 with 1 Axes>"
            ]
          },
          "metadata": {
            "tags": [],
            "needs_background": "light"
          }
        }
      ]
    },
    {
      "cell_type": "code",
      "metadata": {
        "id": "_P7Xb2ZDeE7c",
        "colab": {
          "base_uri": "https://localhost:8080/",
          "height": 295
        },
        "outputId": "50bdbaec-1c71-43b6-c5ff-aa1fcf10be78"
      },
      "source": [
        "def plot_losses(history):\n",
        "    train_losses = [x.get('train_loss') for x in history]\n",
        "    val_losses = [x['val_loss'] for x in history]\n",
        "    plt.plot(train_losses, '-bx')\n",
        "    plt.plot(val_losses, '-rx')\n",
        "    plt.xlabel('epoch')\n",
        "    plt.ylabel('loss')\n",
        "    plt.legend(['Training', 'Validation'])\n",
        "    plt.title('Loss vs. No. of epochs');\n",
        "\n",
        "plot_losses(history)"
      ],
      "execution_count": 25,
      "outputs": [
        {
          "output_type": "display_data",
          "data": {
            "image/png": "[encoded data removed]",
            "text/plain": [
              "<Figure size 432x288 with 1 Axes>"
            ]
          },
          "metadata": {
            "tags": [],
            "needs_background": "light"
          }
        }
      ]
    },
    {
      "cell_type": "code",
      "metadata": {
        "id": "4gHqEmNqeE4d",
        "colab": {
          "base_uri": "https://localhost:8080/",
          "height": 295
        },
        "outputId": "0ff3f5ec-e4ae-4f55-98c2-a6fd766f4954"
      },
      "source": [
        "def plot_lrs(history):\n",
        "    lrs = np.concatenate([x.get('lrs', []) for x in history])\n",
        "    plt.plot(lrs)\n",
        "    plt.xlabel('Batch no.')\n",
        "    plt.ylabel('Learning rate')\n",
        "    plt.title('Learning Rate vs. Batch no.');\n",
        "plot_lrs(history)"
      ],
      "execution_count": 26,
      "outputs": [
        {
          "output_type": "display_data",
          "data": {
            "image/png": "[encoded data removed]",
            "text/plain": [
              "<Figure size 432x288 with 1 Axes>"
            ]
          },
          "metadata": {
            "tags": [],
            "needs_background": "light"
          }
        }
      ]
    },
    {
      "cell_type": "code",
      "metadata": {
        "id": "wsw8SltjeEdW"
      },
      "source": [
        "torch.save(model, '/content/Midas_A.1')\n",
        "\n"
      ],
      "execution_count": 27,
      "outputs": []
    }
  ]
}